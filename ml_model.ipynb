{
 "cells": [
  {
   "cell_type": "code",
   "execution_count": 64,
   "metadata": {},
   "outputs": [],
   "source": [
    "import pandas as pd\n",
    "import numpy as np\n",
    "import matplotlib.pyplot as plt\n",
    "import seaborn as sns\n",
    "from sklearn.model_selection import train_test_split\n",
    "from sklearn.linear_model import LinearRegression, Lasso\n",
    "from sklearn.preprocessing import StandardScaler\n",
    "from sklearn import metrics\n",
    "from sklearn.ensemble import RandomForestRegressor\n",
    "from xgboost import XGBRegressor\n",
    "from models_and_migration import session, RealEstateListing\n",
    "from sqlalchemy import create_engine\n",
    "from sqlalchemy.inspection import inspect\n",
    "import warnings\n"
   ]
  },
  {
   "cell_type": "markdown",
   "metadata": {},
   "source": [
    "Data Collection and Processing"
   ]
  },
  {
   "cell_type": "code",
   "execution_count": 65,
   "metadata": {},
   "outputs": [
    {
     "name": "stdout",
     "output_type": "stream",
     "text": [
      "['url', 'city', 'district', 'year', 'area', 'room_number', 'floor_number', 'no_of_floors', 'building_type', 'heating_system', 'indoor_installation', 'price', 'latest_followed_by_no_people', 'viewed_by_no_people_overall']\n",
      "2022-12-06 18:43:41,296 INFO sqlalchemy.engine.Engine SELECT real_estate_listings.url AS real_estate_listings_url, real_estate_listings.status AS real_estate_listings_status, real_estate_listings.apartment_or_house AS real_estate_listings_apartment_or_house, real_estate_listings.rent_or_sale AS real_estate_listings_rent_or_sale, real_estate_listings.city AS real_estate_listings_city, real_estate_listings.district AS real_estate_listings_district, real_estate_listings.street_name AS real_estate_listings_street_name, real_estate_listings.home_number AS real_estate_listings_home_number, real_estate_listings.apartment_number AS real_estate_listings_apartment_number, real_estate_listings.year AS real_estate_listings_year, real_estate_listings.area AS real_estate_listings_area, real_estate_listings.room_number AS real_estate_listings_room_number, real_estate_listings.floor_number AS real_estate_listings_floor_number, real_estate_listings.no_of_floors AS real_estate_listings_no_of_floors, real_estate_listings.building_type AS real_estate_listings_building_type, real_estate_listings.heating_system AS real_estate_listings_heating_system, real_estate_listings.indoor_installation AS real_estate_listings_indoor_installation, real_estate_listings.energy_consumption_building_class AS real_estate_listings_energy_consumption_building_class, real_estate_listings.price AS real_estate_listings_price, real_estate_listings.date_created AS real_estate_listings_date_created, real_estate_listings.latest_date_updated AS real_estate_listings_latest_date_updated, real_estate_listings.latest_followed_by_no_people AS real_estate_listings_latest_followed_by_no_people, real_estate_listings.viewed_by_no_people_overall AS real_estate_listings_viewed_by_no_people_overall \n",
      "FROM real_estate_listings \n",
      "WHERE real_estate_listings.city IN (?, ?, ?)\n",
      "2022-12-06 18:43:41,296 INFO sqlalchemy.engine.Engine [cached since 2810s ago] ('Vilnius', 'Kaunas', 'Klaipėda')\n"
     ]
    }
   ],
   "source": [
    "# loading the data from csv file to pandas dataframe\n",
    "engine = create_engine(\"sqlite:///mydb.db\", echo=True)\n",
    "connection = engine.connect()\n",
    "columns = ['url', 'city', 'district', 'year', 'area', 'room_number', 'floor_number', 'no_of_floors', 'building_type', 'heating_system', 'indoor_installation', 'price', 'latest_followed_by_no_people', 'viewed_by_no_people_overall']\n",
    "print(columns)\n",
    "df_raw = pd.DataFrame(columns=columns)\n",
    "rows_realestatelistings = session.query(RealEstateListing).filter(RealEstateListing.city.in_(('Vilnius', 'Kaunas', 'Klaipėda'))).all()\n",
    "for row in rows_realestatelistings:\n",
    "    warnings.filterwarnings(action='ignore', category=FutureWarning)\n",
    "    df_raw = df_raw.append({'url': row.url,\n",
    "                    'city': row.city,\n",
    "                    'district': row.district,\n",
    "                    'year': row.year,\n",
    "                    'area': row.area,\n",
    "                    'room_number': row.room_number,\n",
    "                    'floor_number': row.floor_number,\n",
    "                    'no_of_floors': row.no_of_floors,\n",
    "                    'building_type': row.building_type,\n",
    "                    'heating_system': row.heating_system,\n",
    "                    'indoor_installation': row.indoor_installation,\n",
    "                    'price': row.price,\n",
    "                    'latest_followed_by_no_people': row.latest_followed_by_no_people,\n",
    "                    'viewed_by_no_people_overall': row.viewed_by_no_people_overall,\n",
    "                    }, ignore_index=True)\n",
    "# df.to_csv(f'mlaruodas.csv', index=False, encoding='utf-8')"
   ]
  },
  {
   "cell_type": "code",
   "execution_count": 66,
   "metadata": {},
   "outputs": [
    {
     "data": {
      "text/html": [
       "<div>\n",
       "<style scoped>\n",
       "    .dataframe tbody tr th:only-of-type {\n",
       "        vertical-align: middle;\n",
       "    }\n",
       "\n",
       "    .dataframe tbody tr th {\n",
       "        vertical-align: top;\n",
       "    }\n",
       "\n",
       "    .dataframe thead th {\n",
       "        text-align: right;\n",
       "    }\n",
       "</style>\n",
       "<table border=\"1\" class=\"dataframe\">\n",
       "  <thead>\n",
       "    <tr style=\"text-align: right;\">\n",
       "      <th></th>\n",
       "      <th>url</th>\n",
       "      <th>city</th>\n",
       "      <th>district</th>\n",
       "      <th>year</th>\n",
       "      <th>area</th>\n",
       "      <th>room_number</th>\n",
       "      <th>floor_number</th>\n",
       "      <th>no_of_floors</th>\n",
       "      <th>building_type</th>\n",
       "      <th>heating_system</th>\n",
       "      <th>indoor_installation</th>\n",
       "      <th>price</th>\n",
       "      <th>latest_followed_by_no_people</th>\n",
       "      <th>viewed_by_no_people_overall</th>\n",
       "    </tr>\n",
       "  </thead>\n",
       "  <tbody>\n",
       "    <tr>\n",
       "      <th>0</th>\n",
       "      <td>www.aruodas.lt/1-3090567</td>\n",
       "      <td>Klaipėda</td>\n",
       "      <td>Šauliai</td>\n",
       "      <td>2022</td>\n",
       "      <td>45.0</td>\n",
       "      <td>2</td>\n",
       "      <td>2</td>\n",
       "      <td>4</td>\n",
       "      <td>Mūrinis</td>\n",
       "      <td>Centrinis kolektorinis</td>\n",
       "      <td>Dalinė apdaila</td>\n",
       "      <td>79990</td>\n",
       "      <td>113</td>\n",
       "      <td>27158</td>\n",
       "    </tr>\n",
       "    <tr>\n",
       "      <th>1</th>\n",
       "      <td>www.aruodas.lt/1-3268074</td>\n",
       "      <td>Klaipėda</td>\n",
       "      <td>Centras</td>\n",
       "      <td>1980</td>\n",
       "      <td>66.76</td>\n",
       "      <td>3</td>\n",
       "      <td>5</td>\n",
       "      <td>5</td>\n",
       "      <td>Mūrinis</td>\n",
       "      <td>Centrinis</td>\n",
       "      <td>Įrengtas</td>\n",
       "      <td>165000</td>\n",
       "      <td>15</td>\n",
       "      <td>586</td>\n",
       "    </tr>\n",
       "    <tr>\n",
       "      <th>2</th>\n",
       "      <td>www.aruodas.lt/1-3266846</td>\n",
       "      <td>Klaipėda</td>\n",
       "      <td>Senamiestis</td>\n",
       "      <td>2006</td>\n",
       "      <td>64.0</td>\n",
       "      <td>2</td>\n",
       "      <td>4</td>\n",
       "      <td>10</td>\n",
       "      <td>Mūrinis</td>\n",
       "      <td>Centrinis kolektorinis</td>\n",
       "      <td>Įrengtas</td>\n",
       "      <td>135000</td>\n",
       "      <td>15</td>\n",
       "      <td>497</td>\n",
       "    </tr>\n",
       "    <tr>\n",
       "      <th>3</th>\n",
       "      <td>www.aruodas.lt/1-3262872</td>\n",
       "      <td>Klaipėda</td>\n",
       "      <td>Žvejybos uostas</td>\n",
       "      <td>1974</td>\n",
       "      <td>78.46</td>\n",
       "      <td>4</td>\n",
       "      <td>5</td>\n",
       "      <td>5</td>\n",
       "      <td>Blokinis</td>\n",
       "      <td>Centrinis</td>\n",
       "      <td>Įrengtas</td>\n",
       "      <td>97000</td>\n",
       "      <td>12</td>\n",
       "      <td>1234</td>\n",
       "    </tr>\n",
       "    <tr>\n",
       "      <th>4</th>\n",
       "      <td>www.aruodas.lt/1-3267584</td>\n",
       "      <td>Klaipėda</td>\n",
       "      <td>Sportininkai</td>\n",
       "      <td>1970</td>\n",
       "      <td>36.0</td>\n",
       "      <td>1</td>\n",
       "      <td>3</td>\n",
       "      <td>3</td>\n",
       "      <td>Mūrinis</td>\n",
       "      <td>Kietu kuru</td>\n",
       "      <td>Įrengtas</td>\n",
       "      <td>46000</td>\n",
       "      <td>14</td>\n",
       "      <td>847</td>\n",
       "    </tr>\n",
       "  </tbody>\n",
       "</table>\n",
       "</div>"
      ],
      "text/plain": [
       "                        url      city         district  year   area  \\\n",
       "0  www.aruodas.lt/1-3090567  Klaipėda          Šauliai  2022   45.0   \n",
       "1  www.aruodas.lt/1-3268074  Klaipėda          Centras  1980  66.76   \n",
       "2  www.aruodas.lt/1-3266846  Klaipėda      Senamiestis  2006   64.0   \n",
       "3  www.aruodas.lt/1-3262872  Klaipėda  Žvejybos uostas  1974  78.46   \n",
       "4  www.aruodas.lt/1-3267584  Klaipėda     Sportininkai  1970   36.0   \n",
       "\n",
       "  room_number floor_number no_of_floors building_type          heating_system  \\\n",
       "0           2            2            4       Mūrinis  Centrinis kolektorinis   \n",
       "1           3            5            5       Mūrinis               Centrinis   \n",
       "2           2            4           10       Mūrinis  Centrinis kolektorinis   \n",
       "3           4            5            5      Blokinis               Centrinis   \n",
       "4           1            3            3       Mūrinis              Kietu kuru   \n",
       "\n",
       "  indoor_installation   price latest_followed_by_no_people  \\\n",
       "0      Dalinė apdaila   79990                          113   \n",
       "1            Įrengtas  165000                           15   \n",
       "2            Įrengtas  135000                           15   \n",
       "3            Įrengtas   97000                           12   \n",
       "4            Įrengtas   46000                           14   \n",
       "\n",
       "  viewed_by_no_people_overall  \n",
       "0                       27158  \n",
       "1                         586  \n",
       "2                         497  \n",
       "3                        1234  \n",
       "4                         847  "
      ]
     },
     "execution_count": 66,
     "metadata": {},
     "output_type": "execute_result"
    }
   ],
   "source": [
    "df_raw.head()"
   ]
  },
  {
   "cell_type": "code",
   "execution_count": 67,
   "metadata": {},
   "outputs": [
    {
     "name": "stdout",
     "output_type": "stream",
     "text": [
      "<class 'pandas.core.frame.DataFrame'>\n",
      "RangeIndex: 4533 entries, 0 to 4532\n",
      "Data columns (total 14 columns):\n",
      " #   Column                        Non-Null Count  Dtype \n",
      "---  ------                        --------------  ----- \n",
      " 0   url                           4533 non-null   object\n",
      " 1   city                          4533 non-null   object\n",
      " 2   district                      4533 non-null   object\n",
      " 3   year                          4533 non-null   object\n",
      " 4   area                          4533 non-null   object\n",
      " 5   room_number                   4533 non-null   object\n",
      " 6   floor_number                  4533 non-null   object\n",
      " 7   no_of_floors                  4533 non-null   object\n",
      " 8   building_type                 4533 non-null   object\n",
      " 9   heating_system                4533 non-null   object\n",
      " 10  indoor_installation           4533 non-null   object\n",
      " 11  price                         4533 non-null   object\n",
      " 12  latest_followed_by_no_people  4533 non-null   object\n",
      " 13  viewed_by_no_people_overall   4533 non-null   object\n",
      "dtypes: object(14)\n",
      "memory usage: 495.9+ KB\n"
     ]
    }
   ],
   "source": [
    "df_raw.info()"
   ]
  },
  {
   "cell_type": "code",
   "execution_count": 68,
   "metadata": {},
   "outputs": [],
   "source": [
    "df = df_raw[df_raw.price >= 5000]\n",
    "df.dropna(inplace=True)"
   ]
  },
  {
   "cell_type": "code",
   "execution_count": 69,
   "metadata": {},
   "outputs": [],
   "source": [
    "df.replace({'city':{'Vilnius':0, 'Kaunas':1, 'Klaipėda': 2}}, inplace=True)\n",
    "df.replace({'building_type':{'Blokinis':0, 'Karkasinis':1, 'Kita': 2, 'Medinis': 3, 'Monolitinis': 4, 'Mūrinis': 5, \"Rąstinis\": 6}}, inplace=True)\n",
    "df.replace({'indoor_installation':{'Dalinė apdaila':0, 'Įrengtas':1, 'Kita': 2, 'Nebaigtas statyti': 3, 'Neįrengtas': 4}}, inplace=True)\n",
    "df.replace({'district':{'Aleksotas':1, 'Alksnynė':2, 'Antakalnis':3, 'Aukštieji Paneriai':4, 'Aukštieji Šančiai':5, 'Aukštutiniai Kaniūkai':6, 'Bajorai':7, 'Balsiai':8, 'Baltija':9, 'Baltupiai':10, 'Bandužiai':11, 'Buivydiškės':12, 'Bukčiai':13, 'Burbiškės':14, 'Centras':15, 'Dainava':16, 'Debrecenas':17, 'Didieji Gulbinai':18, 'Dvarčionys':19, 'Eiguliai':20, 'Fabijoniškės':21, 'Filaretai':22, 'Freda':23, 'Galgiai':24, 'Giruliai':25, 'Gričiupis':26, 'Grigiškės':27, 'Jeruzalė':28, 'Justiniškės':29, 'Kalnėnai':30, 'Kalniečiai':31, 'Karoliniškės':32, 'Kaunas':33, 'Kirtimai':34, 'Labrenciškės':35, 'Lampėdžiai':36, 'Laukininkai':37, 'Lazdynai':38, 'Lazdynėliai':39, 'Liepkalnis':40, 'Markučiai':41, 'Marvelė':42, 'Mažasis kaimelis':43, 'Melnragė':44, 'Miškas':45, 'Mokykla':46, 'Naujakiemis':47, 'Naujamiestis':48, 'Naujininkai':49, 'Naujoji Vilnia':50, 'Pagiriai':51, 'Palemonas':52, 'Panemunė':53, 'Paneriai':54, 'Pašilaičiai':55, 'Paupiai':56, 'Paupys':57, 'Pavilnys':58, 'Petrašiūnai':59, 'Pilaitė':60, 'Poilsis':61, 'Rasos':62, 'Rimkai':63, 'Rokai':64, 'Romainiai':65, 'Rumpiškės':66, 'Salininkai':67, 'Santariškės':68, 'Sargėnai':69, 'Šauliai':70, 'Senamiestis':71, 'Šeškinė':72, 'Šiaurės miestelis':73, 'Šilainiai':74, 'Smeltė':75, 'Šnipiškės':76, 'Sportininkai':77, 'Tarandė':78, 'Tauralaukis':79, 'Trakų Vokė':80, 'Trekas':81, 'Užupis':82, 'Vaišvydava':83, 'Valakampiai':84, 'Varpai':85, 'Verkiai':86, 'Vėtrungė':87, 'Vičiūnai':88, 'Vilijampolė':89, 'Vilkpėdė':90, 'Vingis':91, 'Viršuliškės':92, 'Visoriai':93, 'Vytėnai':94, 'Žaliakalnis':95, 'Žardininkai':96, 'Žemieji Paneriai':97, 'Žemieji Šančiai':98, 'Žemutiniai Kaniūkai':99, 'Žirmūnai':100, 'Žvejybos uostas':101, 'Žvėrynas':102}}, inplace=True)\n",
    "df['floor_type'] = np.select([(df['floor_number'] == 0), (df['floor_number'] == 1), (df['floor_number'] == df['no_of_floors'])], [0, 1, 2], default=3)\n",
    "df['heating_electricity']= df['heating_system'].apply(lambda x: 1 if ('elektra' in x.lower()) else 0)\n",
    "df['heating_central']= df['heating_system'].apply(lambda x: 1 if ((('centrinis' in x.lower()) and ('kolektorinis' not in x.lower())) or ('centrinis kolektorinis, centrinis' in x.lower())) else 0)\n",
    "df['heating_central_collective ']= df['heating_system'].apply(lambda x: 1 if ('centrinis kolektorinis' in x.lower()) else 0)\n",
    "df['heating_liquid_fuel']= df['heating_system'].apply(lambda x: 1 if ('skystu kuru' in x.lower()) else 0)\n",
    "df['heating_gas']= df['heating_system'].apply(lambda x: 1 if ('dujinis' in x.lower()) else 0)\n",
    "df['heating_sun']= df['heating_system'].apply(lambda x: 1 if ('saulės energija' in x.lower()) else 0)\n",
    "df['heating_aerothermic']= df['heating_system'].apply(lambda x: 1 if ('aeroterminis' in x.lower()) else 0)\n",
    "df['heating_solid_fuel']= df['heating_system'].apply(lambda x: 1 if ('kietu kuru' in x.lower()) else 0)\n",
    "df['heating_geothermal']= df['heating_system'].apply(lambda x: 1 if ('geoterminis' in x.lower()) else 0)\n",
    "df['heating_other']= df['heating_system'].apply(lambda x: 1 if ('kita' in x.lower()) else 0)"
   ]
  },
  {
   "cell_type": "code",
   "execution_count": 70,
   "metadata": {},
   "outputs": [],
   "source": [
    "df = df.astype({'year': 'int64', 'area': 'float64', 'room_number': 'int64', 'floor_number': 'int64', 'no_of_floors': 'int64', 'price': 'int64', 'latest_followed_by_no_people': 'int64', 'viewed_by_no_people_overall': 'int64'})"
   ]
  },
  {
   "cell_type": "code",
   "execution_count": 71,
   "metadata": {},
   "outputs": [],
   "source": [
    "df_append = df.copy(deep = True)"
   ]
  },
  {
   "cell_type": "code",
   "execution_count": 72,
   "metadata": {},
   "outputs": [
    {
     "data": {
      "text/html": [
       "<div>\n",
       "<style scoped>\n",
       "    .dataframe tbody tr th:only-of-type {\n",
       "        vertical-align: middle;\n",
       "    }\n",
       "\n",
       "    .dataframe tbody tr th {\n",
       "        vertical-align: top;\n",
       "    }\n",
       "\n",
       "    .dataframe thead th {\n",
       "        text-align: right;\n",
       "    }\n",
       "</style>\n",
       "<table border=\"1\" class=\"dataframe\">\n",
       "  <thead>\n",
       "    <tr style=\"text-align: right;\">\n",
       "      <th></th>\n",
       "      <th>url</th>\n",
       "      <th>city</th>\n",
       "      <th>district</th>\n",
       "      <th>year</th>\n",
       "      <th>area</th>\n",
       "      <th>room_number</th>\n",
       "      <th>floor_number</th>\n",
       "      <th>no_of_floors</th>\n",
       "      <th>building_type</th>\n",
       "      <th>heating_system</th>\n",
       "      <th>...</th>\n",
       "      <th>heating_electricity</th>\n",
       "      <th>heating_central</th>\n",
       "      <th>heating_central_collective</th>\n",
       "      <th>heating_liquid_fuel</th>\n",
       "      <th>heating_gas</th>\n",
       "      <th>heating_sun</th>\n",
       "      <th>heating_aerothermic</th>\n",
       "      <th>heating_solid_fuel</th>\n",
       "      <th>heating_geothermal</th>\n",
       "      <th>heating_other</th>\n",
       "    </tr>\n",
       "  </thead>\n",
       "  <tbody>\n",
       "    <tr>\n",
       "      <th>0</th>\n",
       "      <td>www.aruodas.lt/1-3090567</td>\n",
       "      <td>2</td>\n",
       "      <td>70</td>\n",
       "      <td>2022</td>\n",
       "      <td>45.00</td>\n",
       "      <td>2</td>\n",
       "      <td>2</td>\n",
       "      <td>4</td>\n",
       "      <td>5</td>\n",
       "      <td>Centrinis kolektorinis</td>\n",
       "      <td>...</td>\n",
       "      <td>0</td>\n",
       "      <td>0</td>\n",
       "      <td>1</td>\n",
       "      <td>0</td>\n",
       "      <td>0</td>\n",
       "      <td>0</td>\n",
       "      <td>0</td>\n",
       "      <td>0</td>\n",
       "      <td>0</td>\n",
       "      <td>0</td>\n",
       "    </tr>\n",
       "    <tr>\n",
       "      <th>1</th>\n",
       "      <td>www.aruodas.lt/1-3268074</td>\n",
       "      <td>2</td>\n",
       "      <td>15</td>\n",
       "      <td>1980</td>\n",
       "      <td>66.76</td>\n",
       "      <td>3</td>\n",
       "      <td>5</td>\n",
       "      <td>5</td>\n",
       "      <td>5</td>\n",
       "      <td>Centrinis</td>\n",
       "      <td>...</td>\n",
       "      <td>0</td>\n",
       "      <td>1</td>\n",
       "      <td>0</td>\n",
       "      <td>0</td>\n",
       "      <td>0</td>\n",
       "      <td>0</td>\n",
       "      <td>0</td>\n",
       "      <td>0</td>\n",
       "      <td>0</td>\n",
       "      <td>0</td>\n",
       "    </tr>\n",
       "    <tr>\n",
       "      <th>2</th>\n",
       "      <td>www.aruodas.lt/1-3266846</td>\n",
       "      <td>2</td>\n",
       "      <td>71</td>\n",
       "      <td>2006</td>\n",
       "      <td>64.00</td>\n",
       "      <td>2</td>\n",
       "      <td>4</td>\n",
       "      <td>10</td>\n",
       "      <td>5</td>\n",
       "      <td>Centrinis kolektorinis</td>\n",
       "      <td>...</td>\n",
       "      <td>0</td>\n",
       "      <td>0</td>\n",
       "      <td>1</td>\n",
       "      <td>0</td>\n",
       "      <td>0</td>\n",
       "      <td>0</td>\n",
       "      <td>0</td>\n",
       "      <td>0</td>\n",
       "      <td>0</td>\n",
       "      <td>0</td>\n",
       "    </tr>\n",
       "    <tr>\n",
       "      <th>3</th>\n",
       "      <td>www.aruodas.lt/1-3262872</td>\n",
       "      <td>2</td>\n",
       "      <td>101</td>\n",
       "      <td>1974</td>\n",
       "      <td>78.46</td>\n",
       "      <td>4</td>\n",
       "      <td>5</td>\n",
       "      <td>5</td>\n",
       "      <td>0</td>\n",
       "      <td>Centrinis</td>\n",
       "      <td>...</td>\n",
       "      <td>0</td>\n",
       "      <td>1</td>\n",
       "      <td>0</td>\n",
       "      <td>0</td>\n",
       "      <td>0</td>\n",
       "      <td>0</td>\n",
       "      <td>0</td>\n",
       "      <td>0</td>\n",
       "      <td>0</td>\n",
       "      <td>0</td>\n",
       "    </tr>\n",
       "    <tr>\n",
       "      <th>4</th>\n",
       "      <td>www.aruodas.lt/1-3267584</td>\n",
       "      <td>2</td>\n",
       "      <td>77</td>\n",
       "      <td>1970</td>\n",
       "      <td>36.00</td>\n",
       "      <td>1</td>\n",
       "      <td>3</td>\n",
       "      <td>3</td>\n",
       "      <td>5</td>\n",
       "      <td>Kietu kuru</td>\n",
       "      <td>...</td>\n",
       "      <td>0</td>\n",
       "      <td>0</td>\n",
       "      <td>0</td>\n",
       "      <td>0</td>\n",
       "      <td>0</td>\n",
       "      <td>0</td>\n",
       "      <td>0</td>\n",
       "      <td>1</td>\n",
       "      <td>0</td>\n",
       "      <td>0</td>\n",
       "    </tr>\n",
       "  </tbody>\n",
       "</table>\n",
       "<p>5 rows × 25 columns</p>\n",
       "</div>"
      ],
      "text/plain": [
       "                        url  city  district  year   area  room_number  \\\n",
       "0  www.aruodas.lt/1-3090567     2        70  2022  45.00            2   \n",
       "1  www.aruodas.lt/1-3268074     2        15  1980  66.76            3   \n",
       "2  www.aruodas.lt/1-3266846     2        71  2006  64.00            2   \n",
       "3  www.aruodas.lt/1-3262872     2       101  1974  78.46            4   \n",
       "4  www.aruodas.lt/1-3267584     2        77  1970  36.00            1   \n",
       "\n",
       "   floor_number  no_of_floors  building_type          heating_system  ...  \\\n",
       "0             2             4              5  Centrinis kolektorinis  ...   \n",
       "1             5             5              5               Centrinis  ...   \n",
       "2             4            10              5  Centrinis kolektorinis  ...   \n",
       "3             5             5              0               Centrinis  ...   \n",
       "4             3             3              5              Kietu kuru  ...   \n",
       "\n",
       "   heating_electricity  heating_central  heating_central_collective   \\\n",
       "0                    0                0                            1   \n",
       "1                    0                1                            0   \n",
       "2                    0                0                            1   \n",
       "3                    0                1                            0   \n",
       "4                    0                0                            0   \n",
       "\n",
       "   heating_liquid_fuel  heating_gas  heating_sun  heating_aerothermic  \\\n",
       "0                    0            0            0                    0   \n",
       "1                    0            0            0                    0   \n",
       "2                    0            0            0                    0   \n",
       "3                    0            0            0                    0   \n",
       "4                    0            0            0                    0   \n",
       "\n",
       "   heating_solid_fuel  heating_geothermal  heating_other  \n",
       "0                   0                   0              0  \n",
       "1                   0                   0              0  \n",
       "2                   0                   0              0  \n",
       "3                   0                   0              0  \n",
       "4                   1                   0              0  \n",
       "\n",
       "[5 rows x 25 columns]"
      ]
     },
     "execution_count": 72,
     "metadata": {},
     "output_type": "execute_result"
    }
   ],
   "source": [
    "df.head()"
   ]
  },
  {
   "cell_type": "code",
   "execution_count": 73,
   "metadata": {},
   "outputs": [
    {
     "data": {
      "text/plain": [
       "url                              object\n",
       "city                              int64\n",
       "district                          int64\n",
       "year                              int64\n",
       "area                            float64\n",
       "room_number                       int64\n",
       "floor_number                      int64\n",
       "no_of_floors                      int64\n",
       "building_type                     int64\n",
       "heating_system                   object\n",
       "indoor_installation               int64\n",
       "price                             int64\n",
       "latest_followed_by_no_people      int64\n",
       "viewed_by_no_people_overall       int64\n",
       "floor_type                        int32\n",
       "heating_electricity               int64\n",
       "heating_central                   int64\n",
       "heating_central_collective        int64\n",
       "heating_liquid_fuel               int64\n",
       "heating_gas                       int64\n",
       "heating_sun                       int64\n",
       "heating_aerothermic               int64\n",
       "heating_solid_fuel                int64\n",
       "heating_geothermal                int64\n",
       "heating_other                     int64\n",
       "dtype: object"
      ]
     },
     "execution_count": 73,
     "metadata": {},
     "output_type": "execute_result"
    }
   ],
   "source": [
    "df.dtypes"
   ]
  },
  {
   "cell_type": "markdown",
   "metadata": {},
   "source": [
    "Full Sample target variable and independent variables"
   ]
  },
  {
   "cell_type": "code",
   "execution_count": 74,
   "metadata": {},
   "outputs": [],
   "source": [
    "X = df.drop(['url', 'price', 'heating_system'],axis=1)\n",
    "Y = df['price']"
   ]
  },
  {
   "cell_type": "markdown",
   "metadata": {},
   "source": [
    "Splitting to training and testing data"
   ]
  },
  {
   "cell_type": "code",
   "execution_count": 75,
   "metadata": {},
   "outputs": [],
   "source": [
    "X_train, X_test, Y_train, Y_test = train_test_split(X, Y, test_size = 0.30, random_state=4)"
   ]
  },
  {
   "cell_type": "markdown",
   "metadata": {},
   "source": [
    "Linear Regresion"
   ]
  },
  {
   "cell_type": "code",
   "execution_count": 76,
   "metadata": {},
   "outputs": [
    {
     "name": "stdout",
     "output_type": "stream",
     "text": [
      "R^2 for training data: 0.6135741176262518\n"
     ]
    }
   ],
   "source": [
    "lm = LinearRegression()\n",
    "lm.fit(X_train, Y_train)\n",
    "Y_pred = lm.predict(X_train)\n",
    "print('R^2 for training data:', metrics.r2_score(Y_train, Y_pred))"
   ]
  },
  {
   "cell_type": "code",
   "execution_count": 77,
   "metadata": {},
   "outputs": [
    {
     "name": "stdout",
     "output_type": "stream",
     "text": [
      "R^2 for test data: 0.598143631032835\n"
     ]
    }
   ],
   "source": [
    "# Predinting Test data with the model\n",
    "Y_test_pred = lm.predict(X_test)\n",
    "print('R^2 for test data:', metrics.r2_score(Y_test, Y_test_pred))"
   ]
  },
  {
   "cell_type": "markdown",
   "metadata": {},
   "source": [
    "Lasso Regression"
   ]
  },
  {
   "cell_type": "code",
   "execution_count": 78,
   "metadata": {},
   "outputs": [
    {
     "name": "stdout",
     "output_type": "stream",
     "text": [
      "R squared Error :  0.6135739957407014\n"
     ]
    }
   ],
   "source": [
    "lass_reg_model = Lasso()\n",
    "lass_reg_model.fit(X_train,Y_train)\n",
    "training_data_prediction = lass_reg_model.predict(X_train)\n",
    "print(\"R squared Error : \", metrics.r2_score(Y_train, training_data_prediction))"
   ]
  },
  {
   "cell_type": "code",
   "execution_count": 79,
   "metadata": {},
   "outputs": [
    {
     "name": "stdout",
     "output_type": "stream",
     "text": [
      "R^2 for test data: 0.5981403436699003\n"
     ]
    }
   ],
   "source": [
    "Y_test_pred = lass_reg_model.predict(X_test)\n",
    "print('R^2 for test data:', metrics.r2_score(Y_test, Y_test_pred))"
   ]
  },
  {
   "cell_type": "markdown",
   "metadata": {},
   "source": [
    "Random Forest"
   ]
  },
  {
   "cell_type": "code",
   "execution_count": 80,
   "metadata": {},
   "outputs": [
    {
     "name": "stdout",
     "output_type": "stream",
     "text": [
      "R^2 for training data: 0.9642695273852219\n"
     ]
    }
   ],
   "source": [
    "reg = RandomForestRegressor()\n",
    "reg.fit(X_train, Y_train)\n",
    "Y_pred = reg.predict(X_train)\n",
    "print('R^2 for training data:', metrics.r2_score(Y_train, Y_pred))\n"
   ]
  },
  {
   "cell_type": "code",
   "execution_count": 81,
   "metadata": {},
   "outputs": [
    {
     "name": "stdout",
     "output_type": "stream",
     "text": [
      "R^2 for test data: 0.7910911730931153\n"
     ]
    }
   ],
   "source": [
    "Y_test_pred = reg.predict(X_test)\n",
    "print('R^2 for test data:', metrics.r2_score(Y_test, Y_test_pred))"
   ]
  },
  {
   "cell_type": "markdown",
   "metadata": {},
   "source": [
    "XGBoost"
   ]
  },
  {
   "cell_type": "code",
   "execution_count": 82,
   "metadata": {},
   "outputs": [
    {
     "name": "stdout",
     "output_type": "stream",
     "text": [
      "R^2 for training data: 0.9933659710025241\n"
     ]
    }
   ],
   "source": [
    "reg = XGBRegressor()\n",
    "reg.fit(X_train, Y_train)\n",
    "Y_pred = reg.predict(X_train)\n",
    "print('R^2 for training data:', metrics.r2_score(Y_train, Y_pred))"
   ]
  },
  {
   "cell_type": "code",
   "execution_count": 83,
   "metadata": {},
   "outputs": [
    {
     "name": "stdout",
     "output_type": "stream",
     "text": [
      "R^2 for testing data: 0.8328397245523506\n"
     ]
    }
   ],
   "source": [
    "Y_test_pred = reg.predict(X_test)\n",
    "print('R^2 for testing data:', metrics.r2_score(Y_test, Y_test_pred))"
   ]
  },
  {
   "cell_type": "code",
   "execution_count": 89,
   "metadata": {},
   "outputs": [
    {
     "name": "stdout",
     "output_type": "stream",
     "text": [
      "0        77697.804688\n",
      "1       105240.914062\n",
      "2       175865.593750\n",
      "3        93650.023438\n",
      "4        41896.417969\n",
      "            ...      \n",
      "4528     82170.937500\n",
      "4529     30455.082031\n",
      "4530    355005.062500\n",
      "4531     96772.250000\n",
      "4532    179126.312500\n",
      "Name: pred_results, Length: 4533, dtype: float32\n"
     ]
    }
   ],
   "source": [
    "pred_results = reg.predict(X)\n",
    "price_prediction = pd.Series(data=pred_results, name='pred_results')\n",
    "print(price_prediction)\n"
   ]
  },
  {
   "cell_type": "code",
   "execution_count": 92,
   "metadata": {},
   "outputs": [
    {
     "data": {
      "text/html": [
       "<div>\n",
       "<style scoped>\n",
       "    .dataframe tbody tr th:only-of-type {\n",
       "        vertical-align: middle;\n",
       "    }\n",
       "\n",
       "    .dataframe tbody tr th {\n",
       "        vertical-align: top;\n",
       "    }\n",
       "\n",
       "    .dataframe thead th {\n",
       "        text-align: right;\n",
       "    }\n",
       "</style>\n",
       "<table border=\"1\" class=\"dataframe\">\n",
       "  <thead>\n",
       "    <tr style=\"text-align: right;\">\n",
       "      <th></th>\n",
       "      <th>index</th>\n",
       "      <th>url</th>\n",
       "      <th>city</th>\n",
       "      <th>district</th>\n",
       "      <th>year</th>\n",
       "      <th>area</th>\n",
       "      <th>room_number</th>\n",
       "      <th>floor_number</th>\n",
       "      <th>no_of_floors</th>\n",
       "      <th>building_type</th>\n",
       "      <th>...</th>\n",
       "      <th>heating_central</th>\n",
       "      <th>heating_central_collective</th>\n",
       "      <th>heating_liquid_fuel</th>\n",
       "      <th>heating_gas</th>\n",
       "      <th>heating_sun</th>\n",
       "      <th>heating_aerothermic</th>\n",
       "      <th>heating_solid_fuel</th>\n",
       "      <th>heating_geothermal</th>\n",
       "      <th>heating_other</th>\n",
       "      <th>pred_results</th>\n",
       "    </tr>\n",
       "  </thead>\n",
       "  <tbody>\n",
       "    <tr>\n",
       "      <th>0</th>\n",
       "      <td>0</td>\n",
       "      <td>www.aruodas.lt/1-3090567</td>\n",
       "      <td>2</td>\n",
       "      <td>70</td>\n",
       "      <td>2022</td>\n",
       "      <td>45.00</td>\n",
       "      <td>2</td>\n",
       "      <td>2</td>\n",
       "      <td>4</td>\n",
       "      <td>5</td>\n",
       "      <td>...</td>\n",
       "      <td>0</td>\n",
       "      <td>1</td>\n",
       "      <td>0</td>\n",
       "      <td>0</td>\n",
       "      <td>0</td>\n",
       "      <td>0</td>\n",
       "      <td>0</td>\n",
       "      <td>0</td>\n",
       "      <td>0</td>\n",
       "      <td>77697.804688</td>\n",
       "    </tr>\n",
       "    <tr>\n",
       "      <th>1</th>\n",
       "      <td>1</td>\n",
       "      <td>www.aruodas.lt/1-3268074</td>\n",
       "      <td>2</td>\n",
       "      <td>15</td>\n",
       "      <td>1980</td>\n",
       "      <td>66.76</td>\n",
       "      <td>3</td>\n",
       "      <td>5</td>\n",
       "      <td>5</td>\n",
       "      <td>5</td>\n",
       "      <td>...</td>\n",
       "      <td>1</td>\n",
       "      <td>0</td>\n",
       "      <td>0</td>\n",
       "      <td>0</td>\n",
       "      <td>0</td>\n",
       "      <td>0</td>\n",
       "      <td>0</td>\n",
       "      <td>0</td>\n",
       "      <td>0</td>\n",
       "      <td>105240.914062</td>\n",
       "    </tr>\n",
       "    <tr>\n",
       "      <th>2</th>\n",
       "      <td>2</td>\n",
       "      <td>www.aruodas.lt/1-3266846</td>\n",
       "      <td>2</td>\n",
       "      <td>71</td>\n",
       "      <td>2006</td>\n",
       "      <td>64.00</td>\n",
       "      <td>2</td>\n",
       "      <td>4</td>\n",
       "      <td>10</td>\n",
       "      <td>5</td>\n",
       "      <td>...</td>\n",
       "      <td>0</td>\n",
       "      <td>1</td>\n",
       "      <td>0</td>\n",
       "      <td>0</td>\n",
       "      <td>0</td>\n",
       "      <td>0</td>\n",
       "      <td>0</td>\n",
       "      <td>0</td>\n",
       "      <td>0</td>\n",
       "      <td>175865.593750</td>\n",
       "    </tr>\n",
       "    <tr>\n",
       "      <th>3</th>\n",
       "      <td>3</td>\n",
       "      <td>www.aruodas.lt/1-3262872</td>\n",
       "      <td>2</td>\n",
       "      <td>101</td>\n",
       "      <td>1974</td>\n",
       "      <td>78.46</td>\n",
       "      <td>4</td>\n",
       "      <td>5</td>\n",
       "      <td>5</td>\n",
       "      <td>0</td>\n",
       "      <td>...</td>\n",
       "      <td>1</td>\n",
       "      <td>0</td>\n",
       "      <td>0</td>\n",
       "      <td>0</td>\n",
       "      <td>0</td>\n",
       "      <td>0</td>\n",
       "      <td>0</td>\n",
       "      <td>0</td>\n",
       "      <td>0</td>\n",
       "      <td>93650.023438</td>\n",
       "    </tr>\n",
       "    <tr>\n",
       "      <th>4</th>\n",
       "      <td>4</td>\n",
       "      <td>www.aruodas.lt/1-3267584</td>\n",
       "      <td>2</td>\n",
       "      <td>77</td>\n",
       "      <td>1970</td>\n",
       "      <td>36.00</td>\n",
       "      <td>1</td>\n",
       "      <td>3</td>\n",
       "      <td>3</td>\n",
       "      <td>5</td>\n",
       "      <td>...</td>\n",
       "      <td>0</td>\n",
       "      <td>0</td>\n",
       "      <td>0</td>\n",
       "      <td>0</td>\n",
       "      <td>0</td>\n",
       "      <td>0</td>\n",
       "      <td>1</td>\n",
       "      <td>0</td>\n",
       "      <td>0</td>\n",
       "      <td>41896.417969</td>\n",
       "    </tr>\n",
       "  </tbody>\n",
       "</table>\n",
       "<p>5 rows × 27 columns</p>\n",
       "</div>"
      ],
      "text/plain": [
       "   index                       url  city  district  year   area  room_number  \\\n",
       "0      0  www.aruodas.lt/1-3090567     2        70  2022  45.00            2   \n",
       "1      1  www.aruodas.lt/1-3268074     2        15  1980  66.76            3   \n",
       "2      2  www.aruodas.lt/1-3266846     2        71  2006  64.00            2   \n",
       "3      3  www.aruodas.lt/1-3262872     2       101  1974  78.46            4   \n",
       "4      4  www.aruodas.lt/1-3267584     2        77  1970  36.00            1   \n",
       "\n",
       "   floor_number  no_of_floors  building_type  ... heating_central  \\\n",
       "0             2             4              5  ...               0   \n",
       "1             5             5              5  ...               1   \n",
       "2             4            10              5  ...               0   \n",
       "3             5             5              0  ...               1   \n",
       "4             3             3              5  ...               0   \n",
       "\n",
       "   heating_central_collective   heating_liquid_fuel  heating_gas  heating_sun  \\\n",
       "0                            1                    0            0            0   \n",
       "1                            0                    0            0            0   \n",
       "2                            1                    0            0            0   \n",
       "3                            0                    0            0            0   \n",
       "4                            0                    0            0            0   \n",
       "\n",
       "   heating_aerothermic  heating_solid_fuel  heating_geothermal  heating_other  \\\n",
       "0                    0                   0                   0              0   \n",
       "1                    0                   0                   0              0   \n",
       "2                    0                   0                   0              0   \n",
       "3                    0                   0                   0              0   \n",
       "4                    0                   1                   0              0   \n",
       "\n",
       "    pred_results  \n",
       "0   77697.804688  \n",
       "1  105240.914062  \n",
       "2  175865.593750  \n",
       "3   93650.023438  \n",
       "4   41896.417969  \n",
       "\n",
       "[5 rows x 27 columns]"
      ]
     },
     "execution_count": 92,
     "metadata": {},
     "output_type": "execute_result"
    }
   ],
   "source": [
    "df_out = pd.concat([df_append.reset_index(), price_prediction], axis=1)\n",
    "df_out.head()"
   ]
  },
  {
   "cell_type": "code",
   "execution_count": 94,
   "metadata": {},
   "outputs": [],
   "source": [
    "df_out = df_out.astype({'pred_results': 'int64'})"
   ]
  },
  {
   "cell_type": "code",
   "execution_count": 95,
   "metadata": {},
   "outputs": [],
   "source": [
    "df_out.to_csv('ml_aruodas.csv', index=False, encoding='utf-8')\n"
   ]
  }
 ],
 "metadata": {
  "kernelspec": {
   "display_name": "Python 3.9.12 ('base')",
   "language": "python",
   "name": "python3"
  },
  "language_info": {
   "codemirror_mode": {
    "name": "ipython",
    "version": 3
   },
   "file_extension": ".py",
   "mimetype": "text/x-python",
   "name": "python",
   "nbconvert_exporter": "python",
   "pygments_lexer": "ipython3",
   "version": "3.9.12"
  },
  "orig_nbformat": 4,
  "vscode": {
   "interpreter": {
    "hash": "e4b5fe4aef63e0e76274bd0790d824aaaeadbd52804e4345bf34df4c102e7bf7"
   }
  }
 },
 "nbformat": 4,
 "nbformat_minor": 2
}
